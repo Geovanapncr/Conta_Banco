{
  "nbformat": 4,
  "nbformat_minor": 0,
  "metadata": {
    "colab": {
      "name": "introdução0 a machine learnig 2 .ipynb",
      "provenance": [],
      "authorship_tag": "ABX9TyOe0Va+foMoVJrDigg2p3kR",
      "include_colab_link": true
    },
    "kernelspec": {
      "name": "python3",
      "display_name": "Python 3"
    },
    "language_info": {
      "name": "python"
    }
  },
  "cells": [
    {
      "cell_type": "markdown",
      "metadata": {
        "id": "view-in-github",
        "colab_type": "text"
      },
      "source": [
        "<a href=\"https://colab.research.google.com/github/xofaninha/Conta_Banco/blob/main/introdu%C3%A7%C3%A3o0_a_machine_learnig_2_.ipynb\" target=\"_parent\"><img src=\"https://colab.research.google.com/assets/colab-badge.svg\" alt=\"Open In Colab\"/></a>"
      ]
    },
    {
      "cell_type": "code",
      "execution_count": 17,
      "metadata": {
        "colab": {
          "base_uri": "https://localhost:8080/",
          "height": 206
        },
        "id": "-xEmEDqFIhCF",
        "outputId": "cbb09b57-5357-41a8-d3e2-a1cf2be7a56c"
      },
      "outputs": [
        {
          "output_type": "execute_result",
          "data": {
            "text/html": [
              "\n",
              "  <div id=\"df-fb19d3b7-1901-4121-aa46-49bf9430836e\">\n",
              "    <div class=\"colab-df-container\">\n",
              "      <div>\n",
              "<style scoped>\n",
              "    .dataframe tbody tr th:only-of-type {\n",
              "        vertical-align: middle;\n",
              "    }\n",
              "\n",
              "    .dataframe tbody tr th {\n",
              "        vertical-align: top;\n",
              "    }\n",
              "\n",
              "    .dataframe thead th {\n",
              "        text-align: right;\n",
              "    }\n",
              "</style>\n",
              "<table border=\"1\" class=\"dataframe\">\n",
              "  <thead>\n",
              "    <tr style=\"text-align: right;\">\n",
              "      <th></th>\n",
              "      <th>home</th>\n",
              "      <th>how_it_works</th>\n",
              "      <th>contact</th>\n",
              "      <th>bought</th>\n",
              "    </tr>\n",
              "  </thead>\n",
              "  <tbody>\n",
              "    <tr>\n",
              "      <th>0</th>\n",
              "      <td>1</td>\n",
              "      <td>1</td>\n",
              "      <td>0</td>\n",
              "      <td>0</td>\n",
              "    </tr>\n",
              "    <tr>\n",
              "      <th>1</th>\n",
              "      <td>1</td>\n",
              "      <td>1</td>\n",
              "      <td>0</td>\n",
              "      <td>0</td>\n",
              "    </tr>\n",
              "    <tr>\n",
              "      <th>2</th>\n",
              "      <td>1</td>\n",
              "      <td>1</td>\n",
              "      <td>0</td>\n",
              "      <td>0</td>\n",
              "    </tr>\n",
              "    <tr>\n",
              "      <th>3</th>\n",
              "      <td>1</td>\n",
              "      <td>1</td>\n",
              "      <td>0</td>\n",
              "      <td>0</td>\n",
              "    </tr>\n",
              "    <tr>\n",
              "      <th>4</th>\n",
              "      <td>1</td>\n",
              "      <td>1</td>\n",
              "      <td>0</td>\n",
              "      <td>0</td>\n",
              "    </tr>\n",
              "  </tbody>\n",
              "</table>\n",
              "</div>\n",
              "      <button class=\"colab-df-convert\" onclick=\"convertToInteractive('df-fb19d3b7-1901-4121-aa46-49bf9430836e')\"\n",
              "              title=\"Convert this dataframe to an interactive table.\"\n",
              "              style=\"display:none;\">\n",
              "        \n",
              "  <svg xmlns=\"http://www.w3.org/2000/svg\" height=\"24px\"viewBox=\"0 0 24 24\"\n",
              "       width=\"24px\">\n",
              "    <path d=\"M0 0h24v24H0V0z\" fill=\"none\"/>\n",
              "    <path d=\"M18.56 5.44l.94 2.06.94-2.06 2.06-.94-2.06-.94-.94-2.06-.94 2.06-2.06.94zm-11 1L8.5 8.5l.94-2.06 2.06-.94-2.06-.94L8.5 2.5l-.94 2.06-2.06.94zm10 10l.94 2.06.94-2.06 2.06-.94-2.06-.94-.94-2.06-.94 2.06-2.06.94z\"/><path d=\"M17.41 7.96l-1.37-1.37c-.4-.4-.92-.59-1.43-.59-.52 0-1.04.2-1.43.59L10.3 9.45l-7.72 7.72c-.78.78-.78 2.05 0 2.83L4 21.41c.39.39.9.59 1.41.59.51 0 1.02-.2 1.41-.59l7.78-7.78 2.81-2.81c.8-.78.8-2.07 0-2.86zM5.41 20L4 18.59l7.72-7.72 1.47 1.35L5.41 20z\"/>\n",
              "  </svg>\n",
              "      </button>\n",
              "      \n",
              "  <style>\n",
              "    .colab-df-container {\n",
              "      display:flex;\n",
              "      flex-wrap:wrap;\n",
              "      gap: 12px;\n",
              "    }\n",
              "\n",
              "    .colab-df-convert {\n",
              "      background-color: #E8F0FE;\n",
              "      border: none;\n",
              "      border-radius: 50%;\n",
              "      cursor: pointer;\n",
              "      display: none;\n",
              "      fill: #1967D2;\n",
              "      height: 32px;\n",
              "      padding: 0 0 0 0;\n",
              "      width: 32px;\n",
              "    }\n",
              "\n",
              "    .colab-df-convert:hover {\n",
              "      background-color: #E2EBFA;\n",
              "      box-shadow: 0px 1px 2px rgba(60, 64, 67, 0.3), 0px 1px 3px 1px rgba(60, 64, 67, 0.15);\n",
              "      fill: #174EA6;\n",
              "    }\n",
              "\n",
              "    [theme=dark] .colab-df-convert {\n",
              "      background-color: #3B4455;\n",
              "      fill: #D2E3FC;\n",
              "    }\n",
              "\n",
              "    [theme=dark] .colab-df-convert:hover {\n",
              "      background-color: #434B5C;\n",
              "      box-shadow: 0px 1px 3px 1px rgba(0, 0, 0, 0.15);\n",
              "      filter: drop-shadow(0px 1px 2px rgba(0, 0, 0, 0.3));\n",
              "      fill: #FFFFFF;\n",
              "    }\n",
              "  </style>\n",
              "\n",
              "      <script>\n",
              "        const buttonEl =\n",
              "          document.querySelector('#df-fb19d3b7-1901-4121-aa46-49bf9430836e button.colab-df-convert');\n",
              "        buttonEl.style.display =\n",
              "          google.colab.kernel.accessAllowed ? 'block' : 'none';\n",
              "\n",
              "        async function convertToInteractive(key) {\n",
              "          const element = document.querySelector('#df-fb19d3b7-1901-4121-aa46-49bf9430836e');\n",
              "          const dataTable =\n",
              "            await google.colab.kernel.invokeFunction('convertToInteractive',\n",
              "                                                     [key], {});\n",
              "          if (!dataTable) return;\n",
              "\n",
              "          const docLinkHtml = 'Like what you see? Visit the ' +\n",
              "            '<a target=\"_blank\" href=https://colab.research.google.com/notebooks/data_table.ipynb>data table notebook</a>'\n",
              "            + ' to learn more about interactive tables.';\n",
              "          element.innerHTML = '';\n",
              "          dataTable['output_type'] = 'display_data';\n",
              "          await google.colab.output.renderOutput(dataTable, element);\n",
              "          const docLink = document.createElement('div');\n",
              "          docLink.innerHTML = docLinkHtml;\n",
              "          element.appendChild(docLink);\n",
              "        }\n",
              "      </script>\n",
              "    </div>\n",
              "  </div>\n",
              "  "
            ],
            "text/plain": [
              "   home  how_it_works  contact  bought\n",
              "0     1             1        0       0\n",
              "1     1             1        0       0\n",
              "2     1             1        0       0\n",
              "3     1             1        0       0\n",
              "4     1             1        0       0"
            ]
          },
          "metadata": {},
          "execution_count": 17
        }
      ],
      "source": [
        "#ler via CSV = separado por virgulas \n",
        "import pandas as pd\n",
        "\n",
        "uri='https://gist.githubusercontent.com/guilhermesilveira/2d2efa37d66b6c84a722ea627a897ced/raw/10968b997d885cbded1c92938c7a9912ba41c615/tracking.csv'\n",
        "\n",
        "dados = pd.read_csv(uri)\n",
        "dados.head()"
      ]
    },
    {
      "cell_type": "code",
      "source": [
        "#renomear as colunas para algo que seja mais facil \n",
        "#utilizando dois pontos e vírgula\n",
        "mapa = {\n",
        "    \"home\" : \"principal\",\n",
        "    \"how_it_works\" : \"como_funciona\",\n",
        "    \"contact\" : \"contatos\",\n",
        "    \"bought\" : \"comprou\"\n",
        "}\n",
        "dados = dados.rename(columns = mapa)"
      ],
      "metadata": {
        "id": "K4sjD_YnLDKD"
      },
      "execution_count": 22,
      "outputs": []
    },
    {
      "cell_type": "code",
      "source": [
        "# separa 3 primeiras colunas da ultima\n",
        "# as 3 primeiras são o x e a última o y\n",
        "x = dados[[\"principal\", \"como_funciona\", \"contatos\"]]\n",
        "      #deve ser passado dentro de um array  \n",
        "y = dados[\"comprou\"]\n",
        "y.head()"
      ],
      "metadata": {
        "colab": {
          "base_uri": "https://localhost:8080/"
        },
        "id": "_LxMFfTNKFIk",
        "outputId": "de4c05b3-b9de-4880-ace5-360b5a7d421b"
      },
      "execution_count": 23,
      "outputs": [
        {
          "output_type": "execute_result",
          "data": {
            "text/plain": [
              "0    0\n",
              "1    0\n",
              "2    0\n",
              "3    0\n",
              "4    0\n",
              "Name: comprou, dtype: int64"
            ]
          },
          "metadata": {},
          "execution_count": 23
        }
      ]
    },
    {
      "cell_type": "markdown",
      "source": [
        "separar o treino do teste para que nao se tenha uma memorização do nosso computador."
      ],
      "metadata": {
        "id": "3nkHcbO9M7Qa"
      }
    },
    {
      "cell_type": "code",
      "source": [
        "dados.shape"
      ],
      "metadata": {
        "colab": {
          "base_uri": "https://localhost:8080/"
        },
        "id": "4j1flWYtNBDS",
        "outputId": "20e37b54-a46b-4963-e0de-f97655833584"
      },
      "execution_count": 24,
      "outputs": [
        {
          "output_type": "execute_result",
          "data": {
            "text/plain": [
              "(99, 4)"
            ]
          },
          "metadata": {},
          "execution_count": 24
        }
      ]
    },
    {
      "cell_type": "code",
      "source": [
        "treino_x = x[:75] #do 0 ao 74\n",
        "treino_y = y[:75]\n",
        "teste_x = x[75:] #75 em diante\n",
        "teste_y = y[75:]\n"
      ],
      "metadata": {
        "id": "qKjifYFaNHEq"
      },
      "execution_count": 45,
      "outputs": []
    },
    {
      "cell_type": "markdown",
      "source": [
        "agora vamos treinar a maquina para reconhecer e aprender os apadrões\n",
        "usando o sklearn"
      ],
      "metadata": {
        "id": "V5Qn7FxdQ1VJ"
      }
    },
    {
      "cell_type": "code",
      "source": [
        "from sklearn.svm import LinearSVC\n",
        "from sklearn.metrics import accuracy_score\n",
        "\n",
        "modelo = LinearSVC()\n",
        "#aprendizagem do programa .fit(modelo, classe)\n",
        "#classes = 0, 1 (verdadeiro ou falso, um ou outro)\n",
        "modelo.fit(treino_x, treino_y)\n",
        "\n",
        "previsões = modelo.predict (teste_x)\n",
        "\n",
        "# funcão que determina a taxa de acertos do nosso programa\n",
        "acuracia = accuracy_score(teste_y, previsões)\n",
        "\n",
        "print(\" A acuracia foi de %f \" % acuracia)"
      ],
      "metadata": {
        "colab": {
          "base_uri": "https://localhost:8080/"
        },
        "id": "X9_6QVNoQyrE",
        "outputId": "fbb305e3-1622-4875-fc34-9d7b92bf2599"
      },
      "execution_count": 61,
      "outputs": [
        {
          "output_type": "stream",
          "name": "stdout",
          "text": [
            " A acuracia foi de 0.958333 \n"
          ]
        }
      ]
    },
    {
      "cell_type": "markdown",
      "source": [
        "**Vídeo - Estratificando splits **"
      ],
      "metadata": {
        "id": "v7xHs4g5VCyX"
      }
    },
    {
      "cell_type": "markdown",
      "source": [
        "esta separação de dados para teste e para treino tambem já é algo comum, então nós ja temos uma função pronta para isto na biblioteca sklearn\n",
        "sklearn treino e teste (train_test_split)\n",
        "\n",
        "[texto do link](https://scikit-learn.org/stable/modules/generated/sklearn.model_selection.train_test_split.html)"
      ],
      "metadata": {
        "id": "2LJ01LzeVzW7"
      }
    },
    {
      "cell_type": "markdown",
      "source": [
        "#Utilizando a biblioteca para separar treino e teste\n"
      ],
      "metadata": {
        "id": "QXUZ5tjYXjLp"
      }
    },
    {
      "cell_type": "code",
      "source": [
        "from sklearn.model_selection import train_test_split\n",
        "from sklearn.svm import LinearSVC\n",
        "from sklearn.metrics import accuracy_score\n",
        "import pandas as pd\n",
        "#ler via CSV = separado por virgulas \n",
        "\n",
        "uri='https://gist.githubusercontent.com/guilhermesilveira/2d2efa37d66b6c84a722ea627a897ced/raw/10968b997d885cbded1c92938c7a9912ba41c615/tracking.csv'\n",
        "\n",
        "dados = pd.read_csv(uri)\n",
        "dados.head()\n",
        "\n",
        "# Renomear as colunas\n",
        "mapa = {\n",
        "    \"home\" : \"principal\",\n",
        "    \"how_it_works\" : \"como_funciona\",\n",
        "    \"contact\" : \"contatos\",\n",
        "    \"bought\" : \"comprou\"\n",
        "}\n",
        "# Não esquece que aqui é dois pontos e vírgula\n",
        "\n",
        "dados = dados.rename(columns = mapa)\n",
        "\n",
        "# separa 3 primeiras colunas da ultima\n",
        "# as 3 primeiras são o x e a última o y\n",
        "x = dados[[\"principal\", \"como_funciona\", \"contatos\"]]\n",
        "      #deve ser passado dentro de um array \n",
        "\n",
        "y = dados[\"comprou\"]\n",
        "y.head()\n",
        "\n",
        "#número inicial para o algoritimo de geração aleatoria\n",
        "#resultado fixo a partir daqui \n",
        "SEED = 20\n",
        "\n",
        "treino_x, teste_x, treino_y, teste_y = train_test_split(x, y, random_state = SEED,  test_size = 0.25)\n",
        "                #as duas matrizes devem ser passadas e o tamanho do teste, neste caso 25% de tudo\n",
        "\n",
        "modelo = LinearSVC()\n",
        "#aprendizagem do programa .fit(modelo, classe)\n",
        "#classes = 0, 1 (verdadeiro ou falso, um ou outro)\n",
        "\n",
        "modelo.fit(treino_x, treino_y)\n",
        "\n",
        "previsões = modelo.predict (teste_x)\n",
        "\n",
        "# funcão que determina a taxa de acertos do nosso programa\n",
        "acuracia = accuracy_score(teste_y, previsões)\n",
        "\n",
        "print(\" A acuracia foi de %f \" % acuracia)      "
      ],
      "metadata": {
        "colab": {
          "base_uri": "https://localhost:8080/"
        },
        "id": "XmAU7LssVMfE",
        "outputId": "ee939b64-af65-4539-bf88-94fc9dec7c8e"
      },
      "execution_count": 4,
      "outputs": [
        {
          "output_type": "stream",
          "name": "stdout",
          "text": [
            " A acuracia foi de 0.960000 \n"
          ]
        }
      ]
    },
    {
      "cell_type": "code",
      "source": [
        "from sklearn.model_selection import train_test_split\n",
        "from sklearn.svm import LinearSVC\n",
        "from sklearn.metrics import accuracy_score\n",
        "import pandas as pd\n",
        "#ler via CSV = separado por virgulas \n",
        "\n",
        "uri='https://gist.githubusercontent.com/guilhermesilveira/2d2efa37d66b6c84a722ea627a897ced/raw/10968b997d885cbded1c92938c7a9912ba41c615/tracking.csv'\n",
        "\n",
        "dados = pd.read_csv(uri)\n",
        "dados.head()\n",
        "\n",
        "# Renomear as colunas\n",
        "mapa = {\n",
        "    \"home\" : \"principal\",\n",
        "    \"how_it_works\" : \"como_funciona\",\n",
        "    \"contact\" : \"contatos\",\n",
        "    \"bought\" : \"comprou\"\n",
        "}\n",
        "# Não esquece que aqui é dois pontos e vírgula\n",
        "\n",
        "dados = dados.rename(columns = mapa)\n",
        "\n",
        "# separa 3 primeiras colunas da ultima\n",
        "# as 3 primeiras são o x e a última o y\n",
        "x = dados[[\"principal\", \"como_funciona\", \"contatos\"]]\n",
        "      #deve ser passado dentro de um array \n",
        "\n",
        "y = dados[\"comprou\"]\n",
        "y.head()\n",
        "\n",
        "#número inicial para o algoritimo de geração aleatoria\n",
        "#resultado fixo a partir daqui \n",
        "SEED = 20\n",
        "\n",
        "treino_x, teste_x, treino_y, teste_y = train_test_split(x, y, random_state = SEED,  test_size = 0.25, stratify = y)\n",
        "                #as duas matrizes devem ser passadas e o tamanho do teste, neste caso 25% de tudo\n",
        "\n",
        "modelo = LinearSVC()\n",
        "#aprendizagem do programa .fit(modelo, classe)\n",
        "#classes = 0, 1 (verdadeiro ou falso, um ou outro)\n",
        "\n",
        "modelo.fit(treino_x, treino_y)\n",
        "\n",
        "previsões = modelo.predict (teste_x)\n",
        "\n",
        "# funcão que determina a taxa de acertos do nosso programa\n",
        "acuracia = accuracy_score(teste_y, previsões)\n",
        "\n",
        "print(\" A acuracia foi de %f \" % acuracia)      "
      ],
      "metadata": {
        "colab": {
          "base_uri": "https://localhost:8080/"
        },
        "id": "qvtx4WryXure",
        "outputId": "1d3d15da-118a-4b4f-8b37-2a3ba4617179"
      },
      "execution_count": 5,
      "outputs": [
        {
          "output_type": "stream",
          "name": "stdout",
          "text": [
            " A acuracia foi de 0.960000 \n"
          ]
        }
      ]
    }
  ]
}